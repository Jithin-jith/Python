{
 "cells": [
  {
   "cell_type": "markdown",
   "id": "bcbc05fe",
   "metadata": {},
   "source": [
    "## Importing packages"
   ]
  },
  {
   "cell_type": "code",
   "execution_count": 34,
   "id": "cf2a6411",
   "metadata": {},
   "outputs": [],
   "source": [
    "import sys\n",
    "import time"
   ]
  },
  {
   "cell_type": "code",
   "execution_count": 35,
   "id": "a93cf314",
   "metadata": {},
   "outputs": [],
   "source": [
    "a = \"hello_world\"\n",
    "b = \"hello_world\""
   ]
  },
  {
   "cell_type": "code",
   "execution_count": 36,
   "id": "6d2f17e9",
   "metadata": {},
   "outputs": [
    {
     "data": {
      "text/plain": [
       "True"
      ]
     },
     "execution_count": 36,
     "metadata": {},
     "output_type": "execute_result"
    }
   ],
   "source": [
    "a is b"
   ]
  },
  {
   "cell_type": "code",
   "execution_count": 37,
   "id": "0c173d73",
   "metadata": {},
   "outputs": [
    {
     "data": {
      "text/plain": [
       "True"
      ]
     },
     "execution_count": 37,
     "metadata": {},
     "output_type": "execute_result"
    }
   ],
   "source": [
    "a == b"
   ]
  },
  {
   "cell_type": "code",
   "execution_count": 38,
   "id": "6ee33340",
   "metadata": {},
   "outputs": [
    {
     "name": "stdout",
     "output_type": "stream",
     "text": [
      "1874915365360 1874915365360\n"
     ]
    }
   ],
   "source": [
    "print(id(a),id(b))"
   ]
  },
  {
   "cell_type": "markdown",
   "id": "939a07d1",
   "metadata": {},
   "source": [
    "-  **a and b followed identifier conditions in the above case hence they are automatically interned by python. Hence they have the same memony address.**"
   ]
  },
  {
   "cell_type": "code",
   "execution_count": 40,
   "id": "7e14dd11",
   "metadata": {},
   "outputs": [],
   "source": [
    "a = \"hello world\"\n",
    "b = \"hello world\""
   ]
  },
  {
   "cell_type": "code",
   "execution_count": 41,
   "id": "cac04505",
   "metadata": {},
   "outputs": [
    {
     "data": {
      "text/plain": [
       "False"
      ]
     },
     "execution_count": 41,
     "metadata": {},
     "output_type": "execute_result"
    }
   ],
   "source": [
    "a is b"
   ]
  },
  {
   "cell_type": "code",
   "execution_count": 42,
   "id": "2033b4c5",
   "metadata": {},
   "outputs": [
    {
     "data": {
      "text/plain": [
       "True"
      ]
     },
     "execution_count": 42,
     "metadata": {},
     "output_type": "execute_result"
    }
   ],
   "source": [
    "a == b"
   ]
  },
  {
   "cell_type": "code",
   "execution_count": 43,
   "id": "45f4c815",
   "metadata": {},
   "outputs": [
    {
     "name": "stdout",
     "output_type": "stream",
     "text": [
      "1874915708784 1874894694448\n"
     ]
    }
   ],
   "source": [
    "print(id(a),id(b))"
   ]
  },
  {
   "cell_type": "markdown",
   "id": "9abd7b50",
   "metadata": {},
   "source": [
    "- **In the above case a and b does not follow the standard identifier conditions and hence are not automatically interned by python. Hence though they are equal string they have different memory addresses.**"
   ]
  },
  {
   "cell_type": "markdown",
   "id": "e8e9f080",
   "metadata": {},
   "source": [
    "-  **We can manually intern those string using the intern function from sys module.**"
   ]
  },
  {
   "cell_type": "code",
   "execution_count": 44,
   "id": "4b939a3e",
   "metadata": {},
   "outputs": [],
   "source": [
    "a = sys.intern(\"hello world\")\n",
    "b = sys.intern(\"hello world\")"
   ]
  },
  {
   "cell_type": "code",
   "execution_count": 45,
   "id": "7c1eac66",
   "metadata": {},
   "outputs": [
    {
     "data": {
      "text/plain": [
       "True"
      ]
     },
     "execution_count": 45,
     "metadata": {},
     "output_type": "execute_result"
    }
   ],
   "source": [
    "a is b"
   ]
  },
  {
   "cell_type": "code",
   "execution_count": 46,
   "id": "449a490a",
   "metadata": {},
   "outputs": [
    {
     "data": {
      "text/plain": [
       "True"
      ]
     },
     "execution_count": 46,
     "metadata": {},
     "output_type": "execute_result"
    }
   ],
   "source": [
    "a == b"
   ]
  },
  {
   "cell_type": "code",
   "execution_count": 47,
   "id": "212e7bed",
   "metadata": {},
   "outputs": [
    {
     "name": "stdout",
     "output_type": "stream",
     "text": [
      "1874931322928 1874931322928\n"
     ]
    }
   ],
   "source": [
    "print(id(a),id(b))"
   ]
  },
  {
   "cell_type": "markdown",
   "id": "fb240584",
   "metadata": {},
   "source": [
    "- **The operator == takes longer to compare as it compares two strings character wise. The comparison using is operator is much faster.**"
   ]
  },
  {
   "cell_type": "code",
   "execution_count": 29,
   "id": "d54190a4",
   "metadata": {},
   "outputs": [],
   "source": [
    "def compare_using_equals(n):\n",
    "    a = \"This is a long string\" *200\n",
    "    b = \"This is a long string\" *200\n",
    "    for i in range(n):\n",
    "        if a == b:\n",
    "            pass"
   ]
  },
  {
   "cell_type": "code",
   "execution_count": 30,
   "id": "853da9b7",
   "metadata": {},
   "outputs": [],
   "source": [
    "def compare_using_is(n):\n",
    "    a = sys.intern(\"This is a long string\" *200)\n",
    "    b = sys.intern(\"This is a long string\" *200)\n",
    "    for i in range(n):\n",
    "        if a is b:\n",
    "            pass"
   ]
  },
  {
   "cell_type": "code",
   "execution_count": 31,
   "id": "21aa321d",
   "metadata": {},
   "outputs": [
    {
     "name": "stdout",
     "output_type": "stream",
     "text": [
      "time taken by equals operator :  1.592941499999938\n"
     ]
    }
   ],
   "source": [
    "start = time.perf_counter()\n",
    "compare_using_equals(10000000)\n",
    "end = time.perf_counter()\n",
    "\n",
    "print(\"time taken by equals operator : \",end-start)"
   ]
  },
  {
   "cell_type": "code",
   "execution_count": 32,
   "id": "1ea4ac37",
   "metadata": {},
   "outputs": [
    {
     "name": "stdout",
     "output_type": "stream",
     "text": [
      "time taken by is operator :  0.18499389999999494\n"
     ]
    }
   ],
   "source": [
    "start = time.perf_counter()\n",
    "compare_using_is(10000000)\n",
    "end = time.perf_counter()\n",
    "\n",
    "print(\"time taken by is operator : \",end-start)"
   ]
  }
 ],
 "metadata": {
  "kernelspec": {
   "display_name": "Python 3 (ipykernel)",
   "language": "python",
   "name": "python3"
  },
  "language_info": {
   "codemirror_mode": {
    "name": "ipython",
    "version": 3
   },
   "file_extension": ".py",
   "mimetype": "text/x-python",
   "name": "python",
   "nbconvert_exporter": "python",
   "pygments_lexer": "ipython3",
   "version": "3.9.12"
  }
 },
 "nbformat": 4,
 "nbformat_minor": 5
}
