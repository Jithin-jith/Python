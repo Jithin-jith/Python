{
 "cells": [
  {
   "cell_type": "markdown",
   "id": "a26d0d77",
   "metadata": {},
   "source": [
    "# PEEPHOLE OPTIMIZATION"
   ]
  },
  {
   "cell_type": "markdown",
   "id": "28d14e5e",
   "metadata": {},
   "source": [
    "- **Peephole optimization is a code optimization technique that occurs at compile time for better performance & speed of your code.**\n",
    "- **In Peephole optimization, Python optimizes code either by pre-calculating constant expressions or by membership tests.**"
   ]
  },
  {
   "cell_type": "markdown",
   "id": "83c9bac7",
   "metadata": {},
   "source": [
    "## Constant Expressions"
   ]
  },
  {
   "cell_type": "markdown",
   "id": "b38a7b99",
   "metadata": {},
   "source": [
    "- Suppose in your code, you are using number of seconds in a week like seconds_in_week = 7 * 24 * 60 * 60. If this statement is repeated many times during the life time of your program then this expressions needs to be calculated again and again. Which certainly decreases performance.\n",
    "- As a developer, we may think that if that decreases performance I will write seconds_in_week = 604800. However using value 604800 instead of 7 * 24 * 60 * 60 is not much readable for this purpose. So from a readability view point, it is messed up right?\n",
    "\n",
    "- **Python pre-calculates constant expressions 7 * 24 * 60 * 60 and replace it for 604800. So we can write 7 * 24 * 60 * 60 as many time as required without degrading performance.**"
   ]
  },
  {
   "cell_type": "markdown",
   "id": "8f162d5a",
   "metadata": {},
   "source": [
    "**Python pre-calculates:**"
   ]
  },
  {
   "cell_type": "markdown",
   "id": "4208084d",
   "metadata": {},
   "source": [
    "- All constants like 7 * 24 * 60 * 60\n",
    "- All constant lists, tuples, sets & strings whose length is less than 20 (This number can be different for different Python implementation)."
   ]
  },
  {
   "cell_type": "markdown",
   "id": "04b1717e",
   "metadata": {},
   "source": [
    "**Lets verify the pre-calculation of constant expressions**"
   ]
  },
  {
   "cell_type": "code",
   "execution_count": 12,
   "id": "12e4cd6f",
   "metadata": {},
   "outputs": [],
   "source": [
    "def my_func():\n",
    "    seconds_in_week = 7 * 24 * 60 * 60\n",
    "    short_strings = \"abc\" * 6\n",
    "    tuples = (1,2) * 4\n",
    "    long_strings = \"very very long sentence\" * 800"
   ]
  },
  {
   "cell_type": "code",
   "execution_count": 13,
   "id": "132903ef",
   "metadata": {},
   "outputs": [
    {
     "name": "stdout",
     "output_type": "stream",
     "text": [
      "(None, 604800, 'abcabcabcabcabcabc', (1, 2, 1, 2, 1, 2, 1, 2), 'very very long sentence', 800)\n"
     ]
    }
   ],
   "source": [
    "print(my_func.__code__.co_consts)"
   ]
  },
  {
   "cell_type": "markdown",
   "id": "1aace8fd",
   "metadata": {},
   "source": [
    "- In the above output, we see that 7 * 24 * 60 * 60, \"abc\" * 6 and (1,2) * 4 are pre-calculated but not \"very very long sentence\" * 800."
   ]
  },
  {
   "cell_type": "markdown",
   "id": "f6faf974",
   "metadata": {},
   "source": [
    "## Membership Tests"
   ]
  },
  {
   "cell_type": "markdown",
   "id": "26a5c10c",
   "metadata": {},
   "source": [
    "- Another optimzation that Python does out of the box is membership test by converting mutable data structures to immutable data structures.\n",
    "- Python does this mutable to immutable conversion because immutable data structures are relatively faster than mutable.\n",
    "- So in membership test, constant lists are converted to tuples, constant sets are converted to frozensets and so on."
   ]
  },
  {
   "cell_type": "code",
   "execution_count": 11,
   "id": "a7ec3b44",
   "metadata": {},
   "outputs": [
    {
     "name": "stdout",
     "output_type": "stream",
     "text": [
      "(None, ('Jack', 'John', 'Dev', 'Saki'), frozenset({1, 2, 3, 4}))\n"
     ]
    }
   ],
   "source": [
    "def membership_test():\n",
    "    for name in [\"Jack\", \"John\", \"Dev\", \"Saki\"]:\n",
    "        pass\n",
    "    \n",
    "    for a in {1,2,3,4}:\n",
    "        pass\n",
    "\n",
    "print(membership_test.__code__.co_consts)"
   ]
  },
  {
   "cell_type": "markdown",
   "id": "c6e79ba5",
   "metadata": {},
   "source": [
    "- Here list [\"Jack\", \"John\", \"Dev\", \"Saki\"] is converted to tuple ('Jack', 'John', 'Dev', 'Saki') and similarly set {1,2,3,4} is converetd to frozenset({1, 2, 3, 4})."
   ]
  }
 ],
 "metadata": {
  "kernelspec": {
   "display_name": "Python 3",
   "language": "python",
   "name": "python3"
  },
  "language_info": {
   "codemirror_mode": {
    "name": "ipython",
    "version": 3
   },
   "file_extension": ".py",
   "mimetype": "text/x-python",
   "name": "python",
   "nbconvert_exporter": "python",
   "pygments_lexer": "ipython3",
   "version": "3.8.8"
  }
 },
 "nbformat": 4,
 "nbformat_minor": 5
}
